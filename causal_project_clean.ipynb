{
  "nbformat": 4,
  "nbformat_minor": 0,
  "metadata": {
    "colab": {
      "name": "causal-project-clean.ipynb",
      "version": "0.3.2",
      "provenance": [],
      "collapsed_sections": [
        "q311qEsJukwM",
        "spkKvUXedEhw",
        "0kTHagecQEK3"
      ]
    },
    "kernelspec": {
      "name": "python3",
      "display_name": "Python 3"
    }
  },
  "cells": [
    {
      "metadata": {
        "id": "YtiUOm5Fbg1Z",
        "colab_type": "text"
      },
      "cell_type": "markdown",
      "source": [
        "## Prepearation"
      ]
    },
    {
      "metadata": {
        "id": "haBG-uhSuC28",
        "colab_type": "code",
        "colab": {}
      },
      "cell_type": "code",
      "source": [
        "# !git remote add origin https://github.com/lironsoffer/CausalInference.git\n",
        "# !git push -u origin master"
      ],
      "execution_count": 0,
      "outputs": []
    },
    {
      "metadata": {
        "id": "XTcgEuWrwyyC",
        "colab_type": "code",
        "colab": {}
      },
      "cell_type": "code",
      "source": [
        "# !pip install bootstrapped\n",
        "!pip install --upgrade pandas"
      ],
      "execution_count": 0,
      "outputs": []
    },
    {
      "metadata": {
        "id": "bZ756uwGk2Ca",
        "colab_type": "text"
      },
      "cell_type": "markdown",
      "source": [
        "### Imports and Setup"
      ]
    },
    {
      "metadata": {
        "id": "FvtDzIUnw3LM",
        "colab_type": "code",
        "colab": {}
      },
      "cell_type": "code",
      "source": [
        "import os\n",
        "from google.colab import drive\n",
        "import pandas as pd\n",
        "import numpy as np\n",
        "from pathlib import Path\n",
        "from sklearn.metrics import classification_report\n",
        "from sklearn.model_selection import train_test_split\n",
        "from sklearn.linear_model import LogisticRegression\n",
        "# from sklearn.linear_model import LogisticRegressionCV\n",
        "# from sklearn import svm\n",
        "# from sklearn import tree\n",
        "# from sklearn.neighbors import KNeighborsClassifier\n",
        "# from sklearn import linear_model\n",
        "import copy\n",
        "from scipy import stats\n",
        "# import bootstrapped.bootstrap as bs\n",
        "# import bootstrapped.stats_functions as bs_stats\n",
        "import random\n",
        "import math\n",
        "\n",
        "seed = 666"
      ],
      "execution_count": 0,
      "outputs": []
    },
    {
      "metadata": {
        "id": "Zuan1LfkxBgx",
        "colab_type": "code",
        "colab": {}
      },
      "cell_type": "code",
      "source": [
        "drive.mount('/content/gdrive')\n",
        "# !mkdir -p 'gdrive/My Drive/Colab Notebooks/Causal Inference/hw3'\n",
        "print(os.chdir('gdrive/My Drive/Colab Notebooks/Causal Inference/project'))\n",
        "print(os.listdir())"
      ],
      "execution_count": 0,
      "outputs": []
    },
    {
      "metadata": {
        "id": "q311qEsJukwM",
        "colab_type": "text"
      },
      "cell_type": "markdown",
      "source": [
        "### Loading and Setting up the raw data"
      ]
    },
    {
      "metadata": {
        "id": "Z4yFWXzRxNvV",
        "colab_type": "code",
        "colab": {}
      },
      "cell_type": "code",
      "source": [
        "PATH = Path('')\n",
        "data1_path = PATH/'flavors_of_cacao.csv'\n",
        "paths = {'data':data1_path}"
      ],
      "execution_count": 0,
      "outputs": []
    },
    {
      "metadata": {
        "id": "mLFUuTenzFgi",
        "colab_type": "code",
        "colab": {}
      },
      "cell_type": "code",
      "source": [
        "def save_df(df,path=None):\n",
        "  if isinstance(path, str): path = paths[path]\n",
        "  df.to_csv(path, sep=',', encoding=\"utf-8-sig\", index=False)\n",
        "\n",
        "def load_df(path):\n",
        "  return pd.read_csv(path, sep=',', encoding=\"utf-8-sig\")\n",
        "\n",
        "# return df.iloc[:,1:]"
      ],
      "execution_count": 0,
      "outputs": []
    },
    {
      "metadata": {
        "id": "o5sU-LiHzwwj",
        "colab_type": "code",
        "colab": {}
      },
      "cell_type": "code",
      "source": [
        "data = load_df(data1_path)"
      ],
      "execution_count": 0,
      "outputs": []
    },
    {
      "metadata": {
        "id": "lhxMaPhNhcqd",
        "colab_type": "code",
        "outputId": "874657fb-1b33-4e1e-ae94-8334993ba15e",
        "colab": {
          "base_uri": "https://localhost:8080/",
          "height": 107
        }
      },
      "cell_type": "code",
      "source": [
        "# data.head()\n",
        "data.columns"
      ],
      "execution_count": 8,
      "outputs": [
        {
          "output_type": "execute_result",
          "data": {
            "text/plain": [
              "Index(['Company \\n(Maker-if known)', 'Specific Bean Origin\\nor Bar Name',\n",
              "       'REF', 'Review\\nDate', 'Cocoa\\nPercent', 'Company\\nLocation', 'Rating',\n",
              "       'Bean\\nType', 'Broad Bean\\nOrigin'],\n",
              "      dtype='object')"
            ]
          },
          "metadata": {
            "tags": []
          },
          "execution_count": 8
        }
      ]
    },
    {
      "metadata": {
        "id": "YCTEpbIgHIZ0",
        "colab_type": "code",
        "outputId": "8ce0a97f-ff0d-442f-d7fc-b50df827e141",
        "colab": {
          "base_uri": "https://localhost:8080/",
          "height": 239
        }
      },
      "cell_type": "code",
      "source": [
        "mapper = {'Company  (Maker-if known)':'company', 'Specific Bean Origin\\nor Bar Name':'origin',\n",
        "       'REF':'REF', 'Review\\nDate':'date', 'Cocoa\\nPercent':'cocoa', 'Company\\nLocation':'location', 'Rating':'rating',\n",
        "       'Bean\\nType':'bean', 'Broad Bean\\nOrigin':'broad_origin'}\n",
        "data.rename(mapper=mapper,axis='columns',inplace='True')\n",
        "data.rename(columns={data.columns[0]:'company'},inplace='True')\n",
        "\n",
        "data.head()"
      ],
      "execution_count": 9,
      "outputs": [
        {
          "output_type": "execute_result",
          "data": {
            "text/html": [
              "<div>\n",
              "<style scoped>\n",
              "    .dataframe tbody tr th:only-of-type {\n",
              "        vertical-align: middle;\n",
              "    }\n",
              "\n",
              "    .dataframe tbody tr th {\n",
              "        vertical-align: top;\n",
              "    }\n",
              "\n",
              "    .dataframe thead th {\n",
              "        text-align: right;\n",
              "    }\n",
              "</style>\n",
              "<table border=\"1\" class=\"dataframe\">\n",
              "  <thead>\n",
              "    <tr style=\"text-align: right;\">\n",
              "      <th></th>\n",
              "      <th>company</th>\n",
              "      <th>origin</th>\n",
              "      <th>REF</th>\n",
              "      <th>date</th>\n",
              "      <th>cocoa</th>\n",
              "      <th>location</th>\n",
              "      <th>rating</th>\n",
              "      <th>bean</th>\n",
              "      <th>broad_origin</th>\n",
              "    </tr>\n",
              "  </thead>\n",
              "  <tbody>\n",
              "    <tr>\n",
              "      <th>0</th>\n",
              "      <td>A. Morin</td>\n",
              "      <td>Agua Grande</td>\n",
              "      <td>1876</td>\n",
              "      <td>2016</td>\n",
              "      <td>63%</td>\n",
              "      <td>France</td>\n",
              "      <td>3.75</td>\n",
              "      <td></td>\n",
              "      <td>Sao Tome</td>\n",
              "    </tr>\n",
              "    <tr>\n",
              "      <th>1</th>\n",
              "      <td>A. Morin</td>\n",
              "      <td>Kpime</td>\n",
              "      <td>1676</td>\n",
              "      <td>2015</td>\n",
              "      <td>70%</td>\n",
              "      <td>France</td>\n",
              "      <td>2.75</td>\n",
              "      <td></td>\n",
              "      <td>Togo</td>\n",
              "    </tr>\n",
              "    <tr>\n",
              "      <th>2</th>\n",
              "      <td>A. Morin</td>\n",
              "      <td>Atsane</td>\n",
              "      <td>1676</td>\n",
              "      <td>2015</td>\n",
              "      <td>70%</td>\n",
              "      <td>France</td>\n",
              "      <td>3.00</td>\n",
              "      <td></td>\n",
              "      <td>Togo</td>\n",
              "    </tr>\n",
              "    <tr>\n",
              "      <th>3</th>\n",
              "      <td>A. Morin</td>\n",
              "      <td>Akata</td>\n",
              "      <td>1680</td>\n",
              "      <td>2015</td>\n",
              "      <td>70%</td>\n",
              "      <td>France</td>\n",
              "      <td>3.50</td>\n",
              "      <td></td>\n",
              "      <td>Togo</td>\n",
              "    </tr>\n",
              "    <tr>\n",
              "      <th>4</th>\n",
              "      <td>A. Morin</td>\n",
              "      <td>Quilla</td>\n",
              "      <td>1704</td>\n",
              "      <td>2015</td>\n",
              "      <td>70%</td>\n",
              "      <td>France</td>\n",
              "      <td>3.50</td>\n",
              "      <td></td>\n",
              "      <td>Peru</td>\n",
              "    </tr>\n",
              "  </tbody>\n",
              "</table>\n",
              "</div>"
            ],
            "text/plain": [
              "    company       origin   REF  date cocoa location  rating bean broad_origin\n",
              "0  A. Morin  Agua Grande  1876  2016   63%   France    3.75          Sao Tome\n",
              "1  A. Morin        Kpime  1676  2015   70%   France    2.75              Togo\n",
              "2  A. Morin       Atsane  1676  2015   70%   France    3.00              Togo\n",
              "3  A. Morin        Akata  1680  2015   70%   France    3.50              Togo\n",
              "4  A. Morin       Quilla  1704  2015   70%   France    3.50              Peru"
            ]
          },
          "metadata": {
            "tags": []
          },
          "execution_count": 9
        }
      ]
    },
    {
      "metadata": {
        "id": "tudYX9t_Ocv1",
        "colab_type": "code",
        "outputId": "03014994-93cf-4e7d-a34e-8bb2280319be",
        "colab": {
          "base_uri": "https://localhost:8080/",
          "height": 89
        }
      },
      "cell_type": "code",
      "source": [
        "data.columns"
      ],
      "execution_count": 10,
      "outputs": [
        {
          "output_type": "execute_result",
          "data": {
            "text/plain": [
              "Index(['company', 'origin', 'REF', 'date', 'cocoa', 'location', 'rating',\n",
              "       'bean', 'broad_origin'],\n",
              "      dtype='object')"
            ]
          },
          "metadata": {
            "tags": []
          },
          "execution_count": 10
        }
      ]
    },
    {
      "metadata": {
        "id": "NJApWUa4lrrf",
        "colab_type": "text"
      },
      "cell_type": "markdown",
      "source": [
        "cocoa"
      ]
    },
    {
      "metadata": {
        "id": "1p9WFfXmmteL",
        "colab_type": "code",
        "colab": {}
      },
      "cell_type": "code",
      "source": [
        "data.cocoa = data.cocoa.apply(lambda x: float(x.strip('%')))\n",
        "data.drop(data[data.cocoa<50].index,inplace=True)\n",
        "data.reset_index(drop=True,inplace=True)\n",
        "cocoa_raw = data.cocoa"
      ],
      "execution_count": 0,
      "outputs": []
    },
    {
      "metadata": {
        "id": "NjU61Qfyk7O5",
        "colab_type": "code",
        "outputId": "9c5a8305-a34e-42f3-d412-04622927d411",
        "colab": {
          "base_uri": "https://localhost:8080/",
          "height": 124
        }
      },
      "cell_type": "code",
      "source": [
        "bins = pd.IntervalIndex.from_tuples([(59,68),(68,71),(71,75),(75,85)])\n",
        "bins_list = bins.to_series().astype(str)\n",
        "cocoa = pd.cut(cocoa_raw, bins=bins, labels=False)\n",
        "data.drop(data[cocoa.isna()].index,inplace=True)\n",
        "cocoa_raw = data.cocoa\n",
        "cocoa.value_counts()"
      ],
      "execution_count": 12,
      "outputs": [
        {
          "output_type": "execute_result",
          "data": {
            "text/plain": [
              "(68, 71]    713\n",
              "(71, 75]    507\n",
              "(59, 68]    287\n",
              "(75, 85]    212\n",
              "Name: cocoa, dtype: int64"
            ]
          },
          "metadata": {
            "tags": []
          },
          "execution_count": 12
        }
      ]
    },
    {
      "metadata": {
        "id": "spkKvUXedEhw",
        "colab_type": "text"
      },
      "cell_type": "markdown",
      "source": [
        "### get dummies for columns"
      ]
    },
    {
      "metadata": {
        "id": "Hz2l1zKjlJLw",
        "colab_type": "text"
      },
      "cell_type": "markdown",
      "source": [
        "company"
      ]
    },
    {
      "metadata": {
        "id": "gc6BvY9SWJio",
        "colab_type": "code",
        "colab": {}
      },
      "cell_type": "code",
      "source": [
        "condition = data.company.value_counts()>5\n",
        "# condition[condition].index\n",
        "company = data.company.apply(lambda x: x if x in condition[condition].index else 'other')\n",
        "company_dummies = pd.get_dummies(data=company,prefix='company')\n",
        "# company.value_counts()"
      ],
      "execution_count": 0,
      "outputs": []
    },
    {
      "metadata": {
        "id": "of7rupoHlLAQ",
        "colab_type": "text"
      },
      "cell_type": "markdown",
      "source": [
        "origin"
      ]
    },
    {
      "metadata": {
        "id": "h8uactAyckgT",
        "colab_type": "code",
        "colab": {}
      },
      "cell_type": "code",
      "source": [
        "condition = data.origin.value_counts()>5\n",
        "origin = data.origin.apply(lambda x: x if x in condition[condition].index else 'other')\n",
        "origin_dummies = pd.get_dummies(data=origin,prefix='origin')\n",
        "# origin.value_counts()"
      ],
      "execution_count": 0,
      "outputs": []
    },
    {
      "metadata": {
        "id": "Q6rp03fslMr3",
        "colab_type": "text"
      },
      "cell_type": "markdown",
      "source": [
        "broad origin"
      ]
    },
    {
      "metadata": {
        "id": "AI4nHyxDdQdC",
        "colab_type": "code",
        "colab": {}
      },
      "cell_type": "code",
      "source": [
        "# broad_origin = data.broad_origin.apply(lambda x: 'other' if x=='' else x)\n",
        "condition = data.broad_origin.value_counts()>5\n",
        "broad_origin = data.broad_origin.apply(lambda x: x if x in condition[condition].index else 'other')\n",
        "if broad_origin.value_counts().index[6]!='other': broad_origin.replace(broad_origin.value_counts().index[6],'other',inplace=True)\n",
        "broad_origin_dummies = pd.get_dummies(data=broad_origin,prefix='broad_origin')\n",
        "# broad_origin.value_counts()"
      ],
      "execution_count": 0,
      "outputs": []
    },
    {
      "metadata": {
        "id": "JFEQeZHRlOVY",
        "colab_type": "text"
      },
      "cell_type": "markdown",
      "source": [
        "bean"
      ]
    },
    {
      "metadata": {
        "id": "gHKJflr8gwQs",
        "colab_type": "code",
        "colab": {}
      },
      "cell_type": "code",
      "source": [
        "condition = data.bean.value_counts()>5\n",
        "bean = data.bean.apply(lambda x: x if x in condition[condition].index else 'other')\n",
        "if bean.value_counts().index[0]!='Other': bean.replace(bean.value_counts().index[0],'other',inplace=True)\n",
        "bean_dummies = pd.get_dummies(data=bean,prefix='bean')\n",
        "# bean.value_counts()"
      ],
      "execution_count": 0,
      "outputs": []
    },
    {
      "metadata": {
        "id": "bfJdV43slP2f",
        "colab_type": "text"
      },
      "cell_type": "markdown",
      "source": [
        "date"
      ]
    },
    {
      "metadata": {
        "id": "djIR24gakpjM",
        "colab_type": "code",
        "colab": {}
      },
      "cell_type": "code",
      "source": [
        "condition = data.date.value_counts()>5\n",
        "date = data.date.apply(lambda x: x if x in condition[condition].index else 'other')\n",
        "date_dummies = pd.get_dummies(data=date,prefix='date')\n",
        "# date.value_counts()"
      ],
      "execution_count": 0,
      "outputs": []
    },
    {
      "metadata": {
        "id": "i7svR8GVlSmD",
        "colab_type": "text"
      },
      "cell_type": "markdown",
      "source": [
        "location"
      ]
    },
    {
      "metadata": {
        "id": "87qABejYk8LX",
        "colab_type": "code",
        "colab": {}
      },
      "cell_type": "code",
      "source": [
        "condition = data.location.value_counts()>5\n",
        "location = data.location.apply(lambda x: x if x in condition[condition].index else 'other')\n",
        "location_dummies = pd.get_dummies(data=location,prefix='location')\n",
        "# location.value_counts()"
      ],
      "execution_count": 0,
      "outputs": []
    },
    {
      "metadata": {
        "id": "_3_lA56tRaxC",
        "colab_type": "text"
      },
      "cell_type": "markdown",
      "source": [
        "ratings"
      ]
    },
    {
      "metadata": {
        "id": "VzM5LOxlRZOI",
        "colab_type": "code",
        "outputId": "c156377a-949a-4881-8cb9-f3584fdff9a1",
        "colab": {
          "base_uri": "https://localhost:8080/",
          "height": 280
        }
      },
      "cell_type": "code",
      "source": [
        "data.rating.value_counts()"
      ],
      "execution_count": 19,
      "outputs": [
        {
          "output_type": "execute_result",
          "data": {
            "text/plain": [
              "3.50    385\n",
              "3.00    329\n",
              "3.25    289\n",
              "2.75    244\n",
              "3.75    208\n",
              "2.50    119\n",
              "4.00     97\n",
              "2.00     25\n",
              "2.25     12\n",
              "1.50      5\n",
              "1.00      3\n",
              "5.00      2\n",
              "1.75      1\n",
              "Name: rating, dtype: int64"
            ]
          },
          "metadata": {
            "tags": []
          },
          "execution_count": 19
        }
      ]
    },
    {
      "metadata": {
        "id": "0kTHagecQEK3",
        "colab_type": "text"
      },
      "cell_type": "markdown",
      "source": [
        "### constructing the df - NOTICE: df contains the dummies and the ratings while data contains the raw data. df DOES NOT contain the treatment (cocoa %)"
      ]
    },
    {
      "metadata": {
        "id": "NNCZ7B6qP737",
        "colab_type": "code",
        "outputId": "8c095fa8-e530-4029-dba6-9b6f3544e884",
        "colab": {
          "base_uri": "https://localhost:8080/",
          "height": 211
        }
      },
      "cell_type": "code",
      "source": [
        "df = pd.concat([company_dummies, origin_dummies, date_dummies, location_dummies, bean_dummies, broad_origin_dummies, data.rating], axis=1)\n",
        "# df.head()\n",
        "# len(df)\n",
        "df.columns"
      ],
      "execution_count": 20,
      "outputs": [
        {
          "output_type": "execute_result",
          "data": {
            "text/plain": [
              "Index(['company_A. Morin', 'company_Altus aka Cao Artisan', 'company_Amano',\n",
              "       'company_Ambrosia', 'company_Amedei', 'company_Arete',\n",
              "       'company_Artisan du Chocolat', 'company_Askinosie',\n",
              "       'company_Benoit Nihant', 'company_Beschle (Felchlin)',\n",
              "       ...\n",
              "       'broad_origin_Sao Tome & Principe', 'broad_origin_St. Lucia',\n",
              "       'broad_origin_Tanzania', 'broad_origin_Trinidad', 'broad_origin_Uganda',\n",
              "       'broad_origin_Vanuatu', 'broad_origin_Venezuela',\n",
              "       'broad_origin_Vietnam', 'broad_origin_other', 'rating'],\n",
              "      dtype='object', length=223)"
            ]
          },
          "metadata": {
            "tags": []
          },
          "execution_count": 20
        }
      ]
    },
    {
      "metadata": {
        "id": "YWSeJS-sOsQF",
        "colab_type": "text"
      },
      "cell_type": "markdown",
      "source": [
        "### Visuallizing Treatment and Outcome"
      ]
    },
    {
      "metadata": {
        "id": "qj0VtrHjNkE2",
        "colab_type": "code",
        "outputId": "a0db8c58-6917-403e-efa6-1f0e3f8f31e5",
        "colab": {
          "base_uri": "https://localhost:8080/",
          "height": 347
        }
      },
      "cell_type": "code",
      "source": [
        "hist = cocoa_raw.hist(bins=10)"
      ],
      "execution_count": 21,
      "outputs": [
        {
          "output_type": "display_data",
          "data": {
            "image/png": "[encoded data removed]",
            "text/plain": [
              "<Figure size 576x396 with 1 Axes>"
            ]
          },
          "metadata": {
            "tags": []
          }
        }
      ]
    },
    {
      "metadata": {
        "id": "tLVcHoH-Rz4D",
        "colab_type": "code",
        "outputId": "16d66349-a84c-49e9-990d-c70bed9a22b5",
        "colab": {
          "base_uri": "https://localhost:8080/",
          "height": 347
        }
      },
      "cell_type": "code",
      "source": [
        "rating_hist = data.rating.hist(bins=10)"
      ],
      "execution_count": 22,
      "outputs": [
        {
          "output_type": "display_data",
          "data": {
            "image/png": "[encoded data removed]",
            "text/plain": [
              "<Figure size 576x396 with 1 Axes>"
            ]
          },
          "metadata": {
            "tags": []
          }
        }
      ]
    },
    {
      "metadata": {
        "id": "81QouTSEzK5Y",
        "colab_type": "text"
      },
      "cell_type": "markdown",
      "source": [
        "**Naive avarage rating by cocoa %**"
      ]
    },
    {
      "metadata": {
        "id": "tNMCn2zPwp1e",
        "colab_type": "code",
        "outputId": "b72d77b4-00c9-4892-edc6-fefe0841b708",
        "colab": {
          "base_uri": "https://localhost:8080/",
          "height": 156
        }
      },
      "cell_type": "code",
      "source": [
        "print(\"avarage rating by cocoa %\\n\")\n",
        "df_dict = {}\n",
        "for k in bins_list:\n",
        "  df_dict[k] = data[cocoa.astype(str)==k].rating\n",
        "  print(k, round(df_dict[k].mean(), 2))"
      ],
      "execution_count": 23,
      "outputs": [
        {
          "output_type": "stream",
          "text": [
            "avarage rating by cocoa %\n",
            "\n",
            "(59, 68] nan\n",
            "(68, 71] nan\n",
            "(71, 75] nan\n",
            "(75, 85] nan\n"
          ],
          "name": "stdout"
        },
        {
          "output_type": "stream",
          "text": [
            "/usr/local/lib/python3.6/dist-packages/ipykernel_launcher.py:4: UserWarning: Boolean Series key will be reindexed to match DataFrame index.\n",
            "  after removing the cwd from sys.path.\n"
          ],
          "name": "stderr"
        }
      ]
    },
    {
      "metadata": {
        "id": "txnfJKmozViD",
        "colab_type": "code",
        "outputId": "163781fe-8f90-45cd-dabe-abb2eb544069",
        "colab": {
          "base_uri": "https://localhost:8080/",
          "height": 449
        }
      },
      "cell_type": "code",
      "source": [
        "tmp_df = pd.DataFrame(df_dict)\n",
        "tmp_df.hist(bins=7)"
      ],
      "execution_count": 24,
      "outputs": [
        {
          "output_type": "execute_result",
          "data": {
            "text/plain": [
              "array([[<matplotlib.axes._subplots.AxesSubplot object at 0x7ff036a92cf8>,\n",
              "        <matplotlib.axes._subplots.AxesSubplot object at 0x7ff036abada0>],\n",
              "       [<matplotlib.axes._subplots.AxesSubplot object at 0x7ff036a67438>,\n",
              "        <matplotlib.axes._subplots.AxesSubplot object at 0x7ff036a0db38>]],\n",
              "      dtype=object)"
            ]
          },
          "metadata": {
            "tags": []
          },
          "execution_count": 24
        },
        {
          "output_type": "display_data",
          "data": {
            "image/png": "[encoded data removed]",
            "text/plain": [
              "<Figure size 576x396 with 4 Axes>"
            ]
          },
          "metadata": {
            "tags": []
          }
        }
      ]
    },
    {
      "metadata": {
        "id": "5jDPWMLpuMEf",
        "colab_type": "text"
      },
      "cell_type": "markdown",
      "source": [
        "## IPW"
      ]
    },
    {
      "metadata": {
        "id": "raKpgh4ZmK0Y",
        "colab_type": "text"
      },
      "cell_type": "markdown",
      "source": [
        "Notice that unlike IPW we used in class, here we use multi-class classification.\n",
        "\n",
        "Thereby, predict_proba returns a vector of probabilities."
      ]
    },
    {
      "metadata": {
        "id": "0_2_hY4uZ9WH",
        "colab_type": "code",
        "colab": {}
      },
      "cell_type": "code",
      "source": [
        "from sklearn.metrics import mean_squared_error, balanced_accuracy_score, accuracy_score, f1_score\n",
        "from sklearn import svm\n",
        "from sklearn.linear_model import LinearRegression, Ridge, SGDRegressor, LogisticRegression\n",
        "from sklearn.tree import DecisionTreeRegressor, DecisionTreeClassifier\n",
        "from sklearn.ensemble import AdaBoostClassifier\n",
        "from sklearn.neighbors import KNeighborsClassifier, KNeighborsRegressor"
      ],
      "execution_count": 0,
      "outputs": []
    },
    {
      "metadata": {
        "id": "rRxiDsxTZMBx",
        "colab_type": "code",
        "colab": {}
      },
      "cell_type": "code",
      "source": [
        "import seaborn as sns\n",
        "import matplotlib.pyplot as plt\n",
        "sns.set(color_codes=True)"
      ],
      "execution_count": 0,
      "outputs": []
    },
    {
      "metadata": {
        "id": "kyulpkYDcVNm",
        "colab_type": "code",
        "colab": {}
      },
      "cell_type": "code",
      "source": [
        "X,T = df.drop(['rating'],axis=1), cocoa_raw.astype('int')\n",
        "X_train, X_test, T_train, T_test = train_test_split(X,T,test_size=0.2,shuffle=False)"
      ],
      "execution_count": 0,
      "outputs": []
    },
    {
      "metadata": {
        "id": "9v20j6Gea_S5",
        "colab_type": "text"
      },
      "cell_type": "markdown",
      "source": [
        "### Propensity Score - accessing the treatment probability (cocoa % prediction)"
      ]
    },
    {
      "metadata": {
        "id": "LIMmd76Sds7U",
        "colab_type": "text"
      },
      "cell_type": "markdown",
      "source": [
        "**Classification**\n",
        "\n",
        "Prediting the treatment (cocoa %) is approached as a classification problem since we are interested in the probabilities of each treatment."
      ]
    },
    {
      "metadata": {
        "id": "5nITy2pNjEb9",
        "colab_type": "code",
        "outputId": "9f0f7a16-f552-4a03-f04b-ca0ee7f25964",
        "colab": {
          "base_uri": "https://localhost:8080/",
          "height": 121
        }
      },
      "cell_type": "code",
      "source": [
        "# Classification\n",
        "T_train_str = pd.cut(pd.Series(T_train), bins=bins).astype('str').dropna()\n",
        "T_test_str = pd.cut(T_test, bins=bins, labels=False).astype('str').dropna()\n",
        "\n",
        "classifier = {}\n",
        "classifier['LogisticRegression'] = LogisticRegression(solver='newton-cg', multi_class='auto').fit(X_train,T_train_str)\n",
        "\n",
        "T_pred_classification = {}\n",
        "acc_classification = {}\n",
        "for k in classifier:\n",
        "  T_pred_classification[k] = classifier[k].predict(X_test)\n",
        "  acc_classification[k] = accuracy_score(T_pred_classification[k],T_test_str)\n",
        "  \n",
        "print(\"\\nPrediction of T - cocoa %\\n\")\n",
        "for k in classifier:\n",
        "  print(\"{} Accuracy = {:.2f}\".format(k,acc_classification[k]))\n",
        "print('\\n')"
      ],
      "execution_count": 28,
      "outputs": [
        {
          "output_type": "stream",
          "text": [
            "\n",
            "Prediction of T - cocoa %\n",
            "\n",
            "LogisticRegression Accuracy = 0.40\n",
            "\n",
            "\n"
          ],
          "name": "stdout"
        }
      ]
    },
    {
      "metadata": {
        "id": "pHK_tEGWdnRy",
        "colab_type": "code",
        "outputId": "de768c95-1751-4293-e5e4-c90029ea18fd",
        "colab": {
          "base_uri": "https://localhost:8080/",
          "height": 449
        }
      },
      "cell_type": "code",
      "source": [
        "best_clf = classifier['LogisticRegression']\n",
        "\n",
        "def calc_propensity_vec(X, best_clf=best_clf):\n",
        "#   print(\"calculating propensity vector..\")\n",
        "  \n",
        "  X.fillna(0,inplace=True)\n",
        "  propensity_vec = pd.DataFrame(best_clf.predict_proba(X.values),columns=['propensity_{}'.format(b) for b in bins_list])\n",
        "  propensity_log_vec = pd.DataFrame(best_clf.predict_log_proba(X.values),columns=['propensity_{}'.format(b) for b in bins_list])\n",
        "\n",
        "  propensity_sum_weights = (1/propensity_vec).sum()\n",
        "  \n",
        "#   print(\"done\")\n",
        "  \n",
        "  return propensity_vec, propensity_sum_weights\n",
        "\n",
        "population_propensity_vec, population_propensity_sum_weights = calc_propensity_vec(X)\n",
        "population_propensity_vec.hist()"
      ],
      "execution_count": 29,
      "outputs": [
        {
          "output_type": "execute_result",
          "data": {
            "text/plain": [
              "array([[<matplotlib.axes._subplots.AxesSubplot object at 0x7ff0358faba8>,\n",
              "        <matplotlib.axes._subplots.AxesSubplot object at 0x7ff03592d400>],\n",
              "       [<matplotlib.axes._subplots.AxesSubplot object at 0x7ff0348d0d68>,\n",
              "        <matplotlib.axes._subplots.AxesSubplot object at 0x7ff03487d710>]],\n",
              "      dtype=object)"
            ]
          },
          "metadata": {
            "tags": []
          },
          "execution_count": 29
        },
        {
          "output_type": "display_data",
          "data": {
            "image/png": "[encoded data removed]",
            "text/plain": [
              "<Figure size 576x396 with 4 Axes>"
            ]
          },
          "metadata": {
            "tags": []
          }
        }
      ]
    },
    {
      "metadata": {
        "id": "5tX9g9ePAZCc",
        "colab_type": "code",
        "colab": {
          "base_uri": "https://localhost:8080/",
          "height": 121
        },
        "outputId": "7c334c22-0fe3-4dbc-956e-5d8e9b2eef75"
      },
      "cell_type": "code",
      "source": [
        "# Classification\n",
        "T_train_str = pd.cut(pd.Series(T_train), bins=bins).astype('str').dropna()\n",
        "T_test_str = pd.cut(T_test, bins=bins, labels=False).astype('str').dropna()\n",
        "\n",
        "classifier = {}\n",
        "classifier['LogisticRegression'] = LogisticRegression(solver='newton-cg', multi_class='auto').fit(X_train,T_train_str)\n",
        "\n",
        "T_pred_classification = {}\n",
        "acc_classification = {}\n",
        "for k in classifier:\n",
        "  T_pred_classification[k] = classifier[k].predict(X_test)\n",
        "  acc_classification[k] = accuracy_score(T_pred_classification[k],T_test_str)\n",
        "  \n",
        "print(\"\\nPrediction of T - cocoa %\\n\")\n",
        "for k in classifier:\n",
        "  print(\"{} Accuracy = {:.2f}\".format(k,acc_classification[k]))\n",
        "print('\\n')"
      ],
      "execution_count": 30,
      "outputs": [
        {
          "output_type": "stream",
          "text": [
            "\n",
            "Prediction of T - cocoa %\n",
            "\n",
            "LogisticRegression Accuracy = 0.40\n",
            "\n",
            "\n"
          ],
          "name": "stdout"
        }
      ]
    },
    {
      "metadata": {
        "id": "jo2h75GWeZwn",
        "colab_type": "code",
        "outputId": "c1a1be83-a792-4519-ea58-58b55ae44ed8",
        "colab": {
          "base_uri": "https://localhost:8080/",
          "height": 294
        }
      },
      "cell_type": "code",
      "source": [
        "(1/population_propensity_vec).describe().round(3)"
      ],
      "execution_count": 31,
      "outputs": [
        {
          "output_type": "execute_result",
          "data": {
            "text/html": [
              "<div>\n",
              "<style scoped>\n",
              "    .dataframe tbody tr th:only-of-type {\n",
              "        vertical-align: middle;\n",
              "    }\n",
              "\n",
              "    .dataframe tbody tr th {\n",
              "        vertical-align: top;\n",
              "    }\n",
              "\n",
              "    .dataframe thead th {\n",
              "        text-align: right;\n",
              "    }\n",
              "</style>\n",
              "<table border=\"1\" class=\"dataframe\">\n",
              "  <thead>\n",
              "    <tr style=\"text-align: right;\">\n",
              "      <th></th>\n",
              "      <th>propensity_(59, 68]</th>\n",
              "      <th>propensity_(68, 71]</th>\n",
              "      <th>propensity_(71, 75]</th>\n",
              "      <th>propensity_(75, 85]</th>\n",
              "    </tr>\n",
              "  </thead>\n",
              "  <tbody>\n",
              "    <tr>\n",
              "      <th>count</th>\n",
              "      <td>1719.000</td>\n",
              "      <td>1719.000</td>\n",
              "      <td>1719.000</td>\n",
              "      <td>1719.000</td>\n",
              "    </tr>\n",
              "    <tr>\n",
              "      <th>mean</th>\n",
              "      <td>14.234</td>\n",
              "      <td>4.776</td>\n",
              "      <td>5.831</td>\n",
              "      <td>16.815</td>\n",
              "    </tr>\n",
              "    <tr>\n",
              "      <th>std</th>\n",
              "      <td>16.826</td>\n",
              "      <td>8.199</td>\n",
              "      <td>8.516</td>\n",
              "      <td>23.573</td>\n",
              "    </tr>\n",
              "    <tr>\n",
              "      <th>min</th>\n",
              "      <td>1.162</td>\n",
              "      <td>1.061</td>\n",
              "      <td>1.029</td>\n",
              "      <td>1.400</td>\n",
              "    </tr>\n",
              "    <tr>\n",
              "      <th>25%</th>\n",
              "      <td>4.933</td>\n",
              "      <td>1.861</td>\n",
              "      <td>2.389</td>\n",
              "      <td>5.785</td>\n",
              "    </tr>\n",
              "    <tr>\n",
              "      <th>50%</th>\n",
              "      <td>9.249</td>\n",
              "      <td>2.753</td>\n",
              "      <td>3.649</td>\n",
              "      <td>9.983</td>\n",
              "    </tr>\n",
              "    <tr>\n",
              "      <th>75%</th>\n",
              "      <td>16.859</td>\n",
              "      <td>4.413</td>\n",
              "      <td>5.846</td>\n",
              "      <td>18.599</td>\n",
              "    </tr>\n",
              "    <tr>\n",
              "      <th>max</th>\n",
              "      <td>216.061</td>\n",
              "      <td>124.858</td>\n",
              "      <td>110.105</td>\n",
              "      <td>475.167</td>\n",
              "    </tr>\n",
              "  </tbody>\n",
              "</table>\n",
              "</div>"
            ],
            "text/plain": [
              "       propensity_(59, 68]  propensity_(68, 71]  propensity_(71, 75]  \\\n",
              "count             1719.000             1719.000             1719.000   \n",
              "mean                14.234                4.776                5.831   \n",
              "std                 16.826                8.199                8.516   \n",
              "min                  1.162                1.061                1.029   \n",
              "25%                  4.933                1.861                2.389   \n",
              "50%                  9.249                2.753                3.649   \n",
              "75%                 16.859                4.413                5.846   \n",
              "max                216.061              124.858              110.105   \n",
              "\n",
              "       propensity_(75, 85]  \n",
              "count             1719.000  \n",
              "mean                16.815  \n",
              "std                 23.573  \n",
              "min                  1.400  \n",
              "25%                  5.785  \n",
              "50%                  9.983  \n",
              "75%                 18.599  \n",
              "max                475.167  "
            ]
          },
          "metadata": {
            "tags": []
          },
          "execution_count": 31
        }
      ]
    },
    {
      "metadata": {
        "id": "kkrFea3xcAUN",
        "colab_type": "text"
      },
      "cell_type": "markdown",
      "source": [
        "### Possible Outcomes (rating) Prediction"
      ]
    },
    {
      "metadata": {
        "id": "qA5fRW09pM-9",
        "colab_type": "text"
      },
      "cell_type": "markdown",
      "source": [
        "Fitting the model is done with the real treatment. Later on all possible outcomes are calculated with artificial treatment attached.\n",
        "\n",
        "**Fitting the model:**"
      ]
    },
    {
      "metadata": {
        "id": "a98pKkJba5dM",
        "colab_type": "code",
        "outputId": "9a609f49-c9ca-49a6-82a4-8449dc8a554c",
        "colab": {
          "base_uri": "https://localhost:8080/",
          "height": 35
        }
      },
      "cell_type": "code",
      "source": [
        "# Regerssion\n",
        "Y = df.rating\n",
        "T_dummies = pd.get_dummies(pd.cut(T, bins=bins, labels=False))\n",
        "X2 = pd.concat([X,T_dummies],axis=1)\n",
        "X2_train, X2_test, Y_train, Y_test = train_test_split(X2,Y,test_size=0.1,shuffle=False)\n",
        "\n",
        "rating_regressor = DecisionTreeRegressor().fit(X2_train,Y_train)\n",
        "Y_pred = rating_regressor.predict(X2_test)\n",
        "mse = mean_squared_error(Y_pred,Y_test)\n",
        "print(\"{:.2f}\".format(mse))"
      ],
      "execution_count": 32,
      "outputs": [
        {
          "output_type": "stream",
          "text": [
            "0.32\n"
          ],
          "name": "stdout"
        }
      ]
    },
    {
      "metadata": {
        "id": "O6NUIWXNzLTF",
        "colab_type": "text"
      },
      "cell_type": "markdown",
      "source": [
        "**Constructing the artificial DataFrames:**"
      ]
    },
    {
      "metadata": {
        "id": "1SmhwYns0rqJ",
        "colab_type": "code",
        "colab": {}
      },
      "cell_type": "code",
      "source": [
        "bins_list = bins.to_series().astype(str)\n",
        "cocoa_cols = ['cocoa_{}'.format(b) for b in bins_list]"
      ],
      "execution_count": 0,
      "outputs": []
    },
    {
      "metadata": {
        "id": "7ZxVZe-DpwSx",
        "colab_type": "code",
        "colab": {}
      },
      "cell_type": "code",
      "source": [
        "def predict_for_samples(samples):\n",
        "#   print(\"predicting for sample\")\n",
        "  zeros_arr = np.ndarray([len(samples), len(cocoa_cols)],dtype='int') * 0\n",
        "\n",
        "  T_art_dummies = {}\n",
        "  for i,b in enumerate(bins_list):\n",
        "    T_art_dummies[b] = pd.DataFrame(zeros_arr,columns=cocoa_cols).copy()\n",
        "    T_art_dummies[b].iloc[:,i] = 1\n",
        "  \n",
        "  X_art = {}\n",
        "  Y_pred_art = {}\n",
        "  for b in bins_list:\n",
        "#     print(np.any(np.isnan(samples)),np.any(np.isnan(T_art_dummies[b])))\n",
        "    X_art[b] = samples.reset_index(drop=True).join([T_art_dummies[b].reset_index(drop=True)], how='left')\n",
        "#     X_art[b] = pd.concat([samples,T_art_dummies[b]],axis=1)\n",
        "    X_art[b].fillna(0,inplace=True)\n",
        "    Y_pred_art[b] = rating_regressor.predict(X_art[b])\n",
        "#   print(\"done\")\n",
        "  return X_art, Y_pred_art"
      ],
      "execution_count": 0,
      "outputs": []
    },
    {
      "metadata": {
        "colab_type": "code",
        "id": "yZLZXkxtJJuq",
        "colab": {}
      },
      "cell_type": "code",
      "source": [
        "def IPW(samples):\n",
        "  IPW_samples_df = pd.DataFrame()\n",
        "  IPW_sum = {}\n",
        "  X_art, Y_pred_art = predict_for_samples(samples)\n",
        "  propensity_vec, propensity_sum_weights = calc_propensity_vec(samples)\n",
        "#   print(\"calculating IPW..\")\n",
        "  for b in bins_list:\n",
        "    IPW_samples_df['IPW_{}'.format(b)] = 0\n",
        "    IPW_samples_df['IPW_{}'.format(b)] = Y_pred_art[b]/propensity_vec['propensity_{}'.format(b)]\n",
        "    \n",
        "    sum_func = lambda x: IPW_samples_df['IPW_{}'.format(b)].sum()/propensity_sum_weights['propensity_{}'.format(b)]\n",
        "        \n",
        "    IPW_sum[b] = IPW_samples_df['IPW_{}'.format(b)].sum()/propensity_sum_weights['propensity_{}'.format(b)]\n",
        "  return IPW_sum"
      ],
      "execution_count": 0,
      "outputs": []
    },
    {
      "metadata": {
        "id": "07KFBcWnzyAk",
        "colab_type": "code",
        "colab": {}
      },
      "cell_type": "code",
      "source": [
        "n_samples = 1000\n",
        "trim_proportiontocut = 0.2\n",
        "def IPW_print():\n",
        "  population = X.copy()\n",
        "#   samples = [train_test_split(population,train_size=0.8)[0]]\n",
        "  def gen_sample():\n",
        "    indecs = sorted([random.randint(0, len(population)-1) for i in range(1000)])\n",
        "    smp = population.iloc[indecs]\n",
        "    return smp\n",
        "  samples = [gen_sample() for i in range(n_samples)]\n",
        "  print(\"bootstrapping {} times.. it might take a minute\".format(n_samples))\n",
        "  bootstrap = [IPW(sample) for sample in samples]\n",
        "  \n",
        "  bootstrap_df = pd.DataFrame(bootstrap)\n",
        "  bootstrapped_avg = dict(bootstrap_df.apply(lambda x: stats.trim_mean(x,trim_proportiontocut),axis=0))\n",
        "  bootstrapped_std = dict(bootstrap_df.apply(lambda x: np.std(x),axis=0))\n",
        "\n",
        "#   bootstrapped_std = bootstrap_df.apply(np.std)\n",
        "\n",
        "\n",
        "  print(\"IPW avarage rating by cocoa % \\nbootstrapped {} times, trimmed with proportiontocut {}:\".format(n_samples,trim_proportiontocut))\n",
        "  for k in bootstrapped_avg:\n",
        "      print(\"{} {:.2f} ,std={:.2f}\".format(k, bootstrapped_avg[k], bootstrapped_std[k]))\n",
        "\n",
        "  print(\"\\nIPW ATE between each group of cocoa % and its following:\")\n",
        "  IPW_sum_list = list(bootstrapped_avg.items())\n",
        "  for i in range(len(IPW_sum_list)-1):\n",
        "    print(\"IPW{}-IPW{} = {:.2f}\".format(IPW_sum_list[i+1][0],IPW_sum_list[i][0],IPW_sum_list[i+1][1]-IPW_sum_list[i][1]))\n",
        "  print('\\n\\n')\n",
        "  return bootstrap "
      ],
      "execution_count": 0,
      "outputs": []
    },
    {
      "metadata": {
        "id": "HZk11HAjxFAJ",
        "colab_type": "code",
        "outputId": "74971bd4-0d5c-4639-a782-9a3a3a615e12",
        "colab": {
          "base_uri": "https://localhost:8080/",
          "height": 277
        }
      },
      "cell_type": "code",
      "source": [
        "pd.options.mode.chained_assignment = None\n",
        "IPW_dict = IPW_print()"
      ],
      "execution_count": 44,
      "outputs": [
        {
          "output_type": "stream",
          "text": [
            "bootstrapping 1000 times.. it might take a minute\n",
            "IPW avarage rating by cocoa % \n",
            "bootstrapped 1000 times, trimmed with proportiontocut 0.2:\n",
            "(59, 68] 3.26 ,std=0.02\n",
            "(68, 71] 3.26 ,std=0.03\n",
            "(71, 75] 3.16 ,std=0.02\n",
            "(75, 85] 3.24 ,std=0.03\n",
            "\n",
            "IPW ATE between each group of cocoa % and its following:\n",
            "IPW(68, 71]-IPW(59, 68] = -0.00\n",
            "IPW(71, 75]-IPW(68, 71] = -0.10\n",
            "IPW(75, 85]-IPW(71, 75] = 0.09\n",
            "\n",
            "\n",
            "\n"
          ],
          "name": "stdout"
        }
      ]
    }
  ]
}